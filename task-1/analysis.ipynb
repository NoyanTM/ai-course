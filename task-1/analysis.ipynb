{
 "cells": [
  {
   "cell_type": "code",
   "execution_count": null,
   "metadata": {},
   "outputs": [],
   "source": [
    "import pandas as pd\n",
    "from datetime import datetime, timedelta\n",
    "\n",
    "# Ensure the date column is in datetime format\n",
    "sensors_data['date'] = pd.to_datetime(sensors_data['date'])\n",
    "\n",
    "# Clean and transform the data\n",
    "clean_data = (\n",
    "    sensors_data[\n",
    "        (sensors_data['error'] == 0) & (sensors_data['status'] == 'active')\n",
    "    ]\n",
    "    .assign(\n",
    "        date_hour=lambda df: df['date'].dt.hour,\n",
    "        hour=lambda df: df.apply(\n",
    "            lambda row: row['date_hour'] if row['hour'] == \"now\" else int(row['hour']), axis=1\n",
    "        )\n",
    "    )\n",
    "    .dropna(subset=['AQI'])\n",
    "    .assign(\n",
    "        date=lambda df: df.apply(\n",
    "            lambda row: (\n",
    "                f\"{row['hour']}:00 {row['date'].strftime('%d-%m-%Y')}\" \n",
    "                if row['hour'] <= row['date_hour']\n",
    "                else f\"{row['hour']}:00 {(row['date'] - timedelta(days=1)).strftime('%d-%m-%Y')}\"\n",
    "            ), axis=1\n",
    "        )\n",
    "    )\n",
    ")"
   ]
  }
 ],
 "metadata": {
  "kernelspec": {
   "display_name": "venv",
   "language": "python",
   "name": "python3"
  },
  "language_info": {
   "name": "python",
   "version": "3.12.3"
  }
 },
 "nbformat": 4,
 "nbformat_minor": 2
}
