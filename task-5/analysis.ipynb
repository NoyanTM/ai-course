{
 "cells": [
  {
   "cell_type": "code",
   "execution_count": 2,
   "metadata": {},
   "outputs": [],
   "source": [
    "import glob # can be with Pathlib or os also\n",
    "import csv\n",
    "import string\n",
    "from collections import Counter\n",
    "\n",
    "import nltk\n",
    "import pandas as pd\n",
    "import numpy as np\n",
    "import pickle\n",
    "from sklearn.feature_extraction.text import TfidfVectorizer\n",
    "from sklearn.manifold import TSNE\n",
    "from sklearn.model_selection import train_test_split\n",
    "from sklearn.ensemble import RandomForestClassifier\n",
    "from sklearn.metrics import accuracy_score\n",
    "import matplotlib.pyplot as plt\n",
    "from sklearn.metrics import classification_report, confusion_matrix\n",
    "from sklearn.preprocessing import LabelEncoder\n",
    "\n",
    "pd.options.display.max_colwidth = 200\n",
    "pd.options.display.width = 1000\n",
    "# display.max_columns = 1000\n",
    "# display.max_rows = 10_000"
   ]
  },
  {
   "cell_type": "code",
   "execution_count": 3,
   "metadata": {},
   "outputs": [
    {
     "data": {
      "text/html": [
       "<div>\n",
       "<style scoped>\n",
       "    .dataframe tbody tr th:only-of-type {\n",
       "        vertical-align: middle;\n",
       "    }\n",
       "\n",
       "    .dataframe tbody tr th {\n",
       "        vertical-align: top;\n",
       "    }\n",
       "\n",
       "    .dataframe thead th {\n",
       "        text-align: right;\n",
       "    }\n",
       "</style>\n",
       "<table border=\"1\" class=\"dataframe\">\n",
       "  <thead>\n",
       "    <tr style=\"text-align: right;\">\n",
       "      <th></th>\n",
       "      <th>author</th>\n",
       "      <th>text</th>\n",
       "    </tr>\n",
       "  </thead>\n",
       "  <tbody>\n",
       "    <tr>\n",
       "      <th>0</th>\n",
       "      <td>AaronPressman</td>\n",
       "      <td>The Internet could provide a huge boost to the U.S. economy if the federal government pursues \"free market\" policies in cyberspace, a group of President Clinton's top advisers says in a draft repo...</td>\n",
       "    </tr>\n",
       "    <tr>\n",
       "      <th>1</th>\n",
       "      <td>AaronPressman</td>\n",
       "      <td>The group, an interagency task force headed by senior presidential adviser Ira Magaziner, recommended that the administration work globally to protect the Internet from new taxes, censorship and o...</td>\n",
       "    </tr>\n",
       "    <tr>\n",
       "      <th>2</th>\n",
       "      <td>AaronPressman</td>\n",
       "      <td>After seven months of deliberations, the task force is preparing to issue for public comment a report of principles and policies the Unites States should pursue, Magaziner said in an interview.</td>\n",
       "    </tr>\n",
       "    <tr>\n",
       "      <th>3</th>\n",
       "      <td>AaronPressman</td>\n",
       "      <td>\"One of the things we're trying to do with this paper is as much say what government should not do as say what they should do,\" Magaziner said. \"A lot of what industry is concerned about is that g...</td>\n",
       "    </tr>\n",
       "    <tr>\n",
       "      <th>4</th>\n",
       "      <td>AaronPressman</td>\n",
       "      <td>The growth of Internet commerce could help boost U.S. exports of everything from movies and news to software and consulting services. Exports of such products totalled $40 billion in 1995, the dra...</td>\n",
       "    </tr>\n",
       "    <tr>\n",
       "      <th>...</th>\n",
       "      <td>...</td>\n",
       "      <td>...</td>\n",
       "    </tr>\n",
       "    <tr>\n",
       "      <th>12</th>\n",
       "      <td>JoeOrtiz</td>\n",
       "      <td>Mathewson said he was not really disappointed by the Direct Line result -- \"But I'd prefer it (profit) to be bigger, don't get me wrong\" -- saying that it stemmed from the higher rate of claims an...</td>\n",
       "    </tr>\n",
       "    <tr>\n",
       "      <th>13</th>\n",
       "      <td>JoeOrtiz</td>\n",
       "      <td>\"The pressure in the market means we couldn't put up prices to compensate but we are making an awful lot more than any of our competitors,\" he said.</td>\n",
       "    </tr>\n",
       "    <tr>\n",
       "      <th>14</th>\n",
       "      <td>JoeOrtiz</td>\n",
       "      <td>Mathewson said the outlook was positive for Direct Line.</td>\n",
       "    </tr>\n",
       "    <tr>\n",
       "      <th>15</th>\n",
       "      <td>JoeOrtiz</td>\n",
       "      <td>\"But I'm not jumping to any conclusions. Prices are beginning to move (higher), many companies are losing substantial amounts of money and history tells me that can't continue for very long.\"</td>\n",
       "    </tr>\n",
       "    <tr>\n",
       "      <th>16</th>\n",
       "      <td>JoeOrtiz</td>\n",
       "      <td>In the UK bank, cost to income ratio dipped to 59.2 percent from 63.2 percent as the effects of the bank's \"Operation Columbus\" restructuring continue to come through. -- London Newsroom +44 171 5...</td>\n",
       "    </tr>\n",
       "  </tbody>\n",
       "</table>\n",
       "<p>43382 rows × 2 columns</p>\n",
       "</div>"
      ],
      "text/plain": [
       "           author                                                                                                                                                                                                     text\n",
       "0   AaronPressman  The Internet could provide a huge boost to the U.S. economy if the federal government pursues \"free market\" policies in cyberspace, a group of President Clinton's top advisers says in a draft repo...\n",
       "1   AaronPressman  The group, an interagency task force headed by senior presidential adviser Ira Magaziner, recommended that the administration work globally to protect the Internet from new taxes, censorship and o...\n",
       "2   AaronPressman        After seven months of deliberations, the task force is preparing to issue for public comment a report of principles and policies the Unites States should pursue, Magaziner said in an interview.\n",
       "3   AaronPressman  \"One of the things we're trying to do with this paper is as much say what government should not do as say what they should do,\" Magaziner said. \"A lot of what industry is concerned about is that g...\n",
       "4   AaronPressman  The growth of Internet commerce could help boost U.S. exports of everything from movies and news to software and consulting services. Exports of such products totalled $40 billion in 1995, the dra...\n",
       "..            ...                                                                                                                                                                                                      ...\n",
       "12       JoeOrtiz  Mathewson said he was not really disappointed by the Direct Line result -- \"But I'd prefer it (profit) to be bigger, don't get me wrong\" -- saying that it stemmed from the higher rate of claims an...\n",
       "13       JoeOrtiz                                                     \"The pressure in the market means we couldn't put up prices to compensate but we are making an awful lot more than any of our competitors,\" he said.\n",
       "14       JoeOrtiz                                                                                                                                                 Mathewson said the outlook was positive for Direct Line.\n",
       "15       JoeOrtiz          \"But I'm not jumping to any conclusions. Prices are beginning to move (higher), many companies are losing substantial amounts of money and history tells me that can't continue for very long.\"\n",
       "16       JoeOrtiz  In the UK bank, cost to income ratio dipped to 59.2 percent from 63.2 percent as the effects of the bank's \"Operation Columbus\" restructuring continue to come through. -- London Newsroom +44 171 5...\n",
       "\n",
       "[43382 rows x 2 columns]"
      ]
     },
     "execution_count": 3,
     "metadata": {},
     "output_type": "execute_result"
    }
   ],
   "source": [
    "# Reading train files txt to pandas dataframes\n",
    "# and extracting authors with their texts\n",
    "\n",
    "filepaths = glob.iglob('./data/C50train/*/*.txt')\n",
    "dataframes = []\n",
    "for i, filepath in enumerate(filepaths):\n",
    "    temp_df = pd.DataFrame()\n",
    "    temp_df = pd.read_csv(filepath, delimiter=\"\\t\", on_bad_lines='skip', header=None, quoting=csv.QUOTE_NONE, encoding='utf-8')\n",
    "    temp_df[\"author\"] = filepath.split(\"/\")[3]\n",
    "    dataframes.append(temp_df)\n",
    "    \n",
    "df = pd.concat(dataframes)\n",
    "df = df.rename(columns={0:\"text\"})\n",
    "df = df[[\"author\", \"text\"]]\n",
    "df"
   ]
  },
  {
   "cell_type": "code",
   "execution_count": 4,
   "metadata": {},
   "outputs": [
    {
     "data": {
      "text/html": [
       "<div>\n",
       "<style scoped>\n",
       "    .dataframe tbody tr th:only-of-type {\n",
       "        vertical-align: middle;\n",
       "    }\n",
       "\n",
       "    .dataframe tbody tr th {\n",
       "        vertical-align: top;\n",
       "    }\n",
       "\n",
       "    .dataframe thead th {\n",
       "        text-align: right;\n",
       "    }\n",
       "</style>\n",
       "<table border=\"1\" class=\"dataframe\">\n",
       "  <thead>\n",
       "    <tr style=\"text-align: right;\">\n",
       "      <th></th>\n",
       "      <th>author</th>\n",
       "      <th>text</th>\n",
       "    </tr>\n",
       "  </thead>\n",
       "  <tbody>\n",
       "    <tr>\n",
       "      <th>count</th>\n",
       "      <td>43382</td>\n",
       "      <td>43382</td>\n",
       "    </tr>\n",
       "    <tr>\n",
       "      <th>unique</th>\n",
       "      <td>50</td>\n",
       "      <td>38949</td>\n",
       "    </tr>\n",
       "    <tr>\n",
       "      <th>top</th>\n",
       "      <td>LynneO'Donnell</td>\n",
       "      <td>-- Prague Newsroom, 42-2-2423-0003</td>\n",
       "    </tr>\n",
       "    <tr>\n",
       "      <th>freq</th>\n",
       "      <td>1108</td>\n",
       "      <td>44</td>\n",
       "    </tr>\n",
       "  </tbody>\n",
       "</table>\n",
       "</div>"
      ],
      "text/plain": [
       "                author                                text\n",
       "count            43382                               43382\n",
       "unique              50                               38949\n",
       "top     LynneO'Donnell  -- Prague Newsroom, 42-2-2423-0003\n",
       "freq              1108                                  44"
      ]
     },
     "execution_count": 4,
     "metadata": {},
     "output_type": "execute_result"
    }
   ],
   "source": [
    "df.describe()"
   ]
  },
  {
   "cell_type": "code",
   "execution_count": 5,
   "metadata": {},
   "outputs": [
    {
     "data": {
      "text/plain": [
       "0     The Internet could provide a huge boost to the U.S. economy if the federal government pursues \"free market\" policies in cyberspace, a group of President Clinton's top advisers says in a draft repo...\n",
       "1     The group, an interagency task force headed by senior presidential adviser Ira Magaziner, recommended that the administration work globally to protect the Internet from new taxes, censorship and o...\n",
       "2           After seven months of deliberations, the task force is preparing to issue for public comment a report of principles and policies the Unites States should pursue, Magaziner said in an interview.\n",
       "3     \"One of the things we're trying to do with this paper is as much say what government should not do as say what they should do,\" Magaziner said. \"A lot of what industry is concerned about is that g...\n",
       "4     The growth of Internet commerce could help boost U.S. exports of everything from movies and news to software and consulting services. Exports of such products totalled $40 billion in 1995, the dra...\n",
       "                                                                                                       ...                                                                                                   \n",
       "12    Mathewson said he was not really disappointed by the Direct Line result -- \"But I'd prefer it (profit) to be bigger, don't get me wrong\" -- saying that it stemmed from the higher rate of claims an...\n",
       "13                                                       \"The pressure in the market means we couldn't put up prices to compensate but we are making an awful lot more than any of our competitors,\" he said.\n",
       "14                                                                                                                                                   Mathewson said the outlook was positive for Direct Line.\n",
       "15            \"But I'm not jumping to any conclusions. Prices are beginning to move (higher), many companies are losing substantial amounts of money and history tells me that can't continue for very long.\"\n",
       "16    In the UK bank, cost to income ratio dipped to 59.2 percent from 63.2 percent as the effects of the bank's \"Operation Columbus\" restructuring continue to come through. -- London Newsroom +44 171 5...\n",
       "Name: text, Length: 43382, dtype: object"
      ]
     },
     "metadata": {},
     "output_type": "display_data"
    }
   ],
   "source": [
    "display(df[\"text\"])"
   ]
  },
  {
   "cell_type": "code",
   "execution_count": 6,
   "metadata": {},
   "outputs": [],
   "source": [
    "# text preprocessing with nltk\n",
    "\n",
    "# create copy column \"tokenized_text\" of \"text\"\n",
    "df[\"tokenized_text_seperated\"] = df[\"text\"]\n",
    "\n",
    "# convert to lowercase\n",
    "df[\"tokenized_text_seperated\"] = df[\"tokenized_text_seperated\"].str.lower()\n",
    "\n",
    "# remove stopwords\n",
    "stopwords = nltk.corpus.stopwords.words(\"english\")\n",
    "df[\"tokenized_text_seperated\"] = df[\"tokenized_text_seperated\"].apply(\n",
    "    lambda text: \" \".join(word for word in text.split() if word not in stopwords)\n",
    ")\n",
    "\n",
    "# remove punctuation marks and symbols\n",
    "def remove_punctuations(text):\n",
    "    for punctuation in string.punctuation:\n",
    "        text = text.replace(punctuation, '')\n",
    "    return text\n",
    "df[\"tokenized_text_seperated\"] = df[\"tokenized_text_seperated\"].apply(remove_punctuations)\n",
    "\n",
    "# tokenization - convert to nltk tokens list\n",
    "def convert_to_tokens(text: str):\n",
    "    tokens = nltk.tokenize.word_tokenize(text)\n",
    "    return tokens\n",
    "df[\"tokenized_text_seperated\"] = df[\"tokenized_text_seperated\"].apply(convert_to_tokens)\n",
    "\n",
    "# stemming or lematization\n",
    "stemmer = nltk.stem.porter.PorterStemmer()\n",
    "df[\"tokenized_text_seperated\"] = df[\"tokenized_text_seperated\"].apply(\n",
    "    lambda tokens: [stemmer.stem(token) for token in tokens]\n",
    ")"
   ]
  },
  {
   "cell_type": "code",
   "execution_count": 7,
   "metadata": {},
   "outputs": [],
   "source": [
    "# embedding / text vectors with tfidf and apply dimensions reduction (tsne, pca, umap, etc.)\n",
    "df[\"tokenized_text\"] = df['tokenized_text_seperated'].apply(lambda x: ' '.join(x))\n",
    "vectorizer = TfidfVectorizer()\n",
    "tfidf_matrix = vectorizer.fit_transform(df[\"tokenized_text\"])\n",
    "feature_names = vectorizer.get_feature_names_out()\n",
    "# X_tfidf = tfidf_vect_fit.transform(data)\n",
    "# tfidf_vect_fit=tfidf_vect.fit(X_train['text'])\n",
    "# X_train=vectorize(X_train['text'], tfidf_vect_fit)\n",
    "\n",
    "# tfidf_df = pd.DataFrame(tfidf_matrix.toarray(), columns=feature_names)\n",
    "# tsne = TSNE(n_components=2, random_state=42)\n",
    "# tsne_results = tsne.fit_transform(tfidf_matrix.toarray())\n",
    "# tsne_df = pd.DataFrame(tsne_results, columns=['tsne1', 'tsne2'])"
   ]
  },
  {
   "cell_type": "code",
   "execution_count": 8,
   "metadata": {},
   "outputs": [
    {
     "data": {
      "image/png": "[encoded data removed]",
      "text/plain": [
       "<Figure size 1200x600 with 1 Axes>"
      ]
     },
     "metadata": {},
     "output_type": "display_data"
    }
   ],
   "source": [
    "# histograms of word frequencies\n",
    "combined_tokens = [word for sublist in df[\"tokenized_text_seperated\"] for word in sublist]\n",
    "top_n = 25\n",
    "word_freq = Counter(combined_tokens)\n",
    "top_words = word_freq.most_common(top_n)\n",
    "plt.figure(figsize=(12, 6))\n",
    "words, frequencies = zip(*top_words)\n",
    "plt.bar(words, frequencies)\n",
    "plt.title(f'Top {top_n} Most Frequent Words')\n",
    "plt.xlabel('Words')\n",
    "plt.ylabel('Frequency')\n",
    "plt.xticks(rotation=45, ha='right')\n",
    "plt.tight_layout()\n",
    "plt.show()"
   ]
  },
  {
   "cell_type": "code",
   "execution_count": 9,
   "metadata": {},
   "outputs": [],
   "source": [
    "# convert authors to numerical representation\n",
    "unique_authors = df[\"author\"].unique()\n",
    "author_num_dict = {author: index for index, author in enumerate(unique_authors)}\n",
    "encoded_df = df.copy()\n",
    "encoded_df[\"author\"] = encoded_df[\"author\"].map(author_num_dict)\n",
    "\n",
    "# or with this:\n",
    "# le = LabelEncoder()\n",
    "# df['author_encoded'] = le.fit_transform(df['author'])"
   ]
  },
  {
   "cell_type": "code",
   "execution_count": 12,
   "metadata": {},
   "outputs": [
    {
     "ename": "",
     "evalue": "",
     "output_type": "error",
     "traceback": [
      "\u001b[1;31mThe Kernel crashed while executing code in the current cell or a previous cell. \n",
      "\u001b[1;31mPlease review the code in the cell(s) to identify a possible cause of the failure. \n",
      "\u001b[1;31mClick <a href='https://aka.ms/vscodeJupyterKernelCrash'>here</a> for more info. \n",
      "\u001b[1;31mView Jupyter <a href='command:jupyter.viewOutput'>log</a> for further details."
     ]
    }
   ],
   "source": [
    "# train model for author identification and accuracy evaluation\n",
    "features = tfidf_matrix.toarray()\n",
    "labels = encoded_df[\"author\"]\n",
    "\n",
    "X_train, X_test, y_train, y_test = train_test_split(features, labels, test_size=0.2, random_state=42)\n",
    "\n",
    "rf_classifier = RandomForestClassifier(random_state=42)\n",
    "rf_classifier.fit(X_train, y_train)\n",
    "y_pred = rf_classifier.predict(X_test)\n",
    "\n",
    "# print(\"Classification Report:\")\n",
    "# print(classification_report(y_test, y_pred)) # target_names=author_num_dict.classes_\n",
    "# Optional: Feature importance\n",
    "# feature_importance = rf_classifier.feature_importances_\n",
    "# feature_imp_df = pd.DataFrame({\n",
    "#     'feature': feature_names,\n",
    "#     'importance': feature_importance\n",
    "# }).sort_values('importance', ascending=False).head(10)\n",
    "\n",
    "# print(\"\\nTop 10 Most Important Features:\")\n",
    "# print(feature_imp_df)\n",
    "\n",
    "# # Optional: Confusion Matrix\n",
    "# print(\"\\nConfusion Matrix:\")\n",
    "# print(confusion_matrix(y_test, y_pred))\n",
    "\n",
    "# # Function to predict author for new text\n",
    "# def predict_author(text):\n",
    "#     # Transform the input text using the same vectorizer\n",
    "#     text_tfidf = vectorizer.transform([text])\n",
    "#     # Predict the author\n",
    "#     predicted_encoded = rf_classifier.predict(text_tfidf)\n",
    "#     predicted_author = le.inverse_transform(predicted_encoded)[0]\n",
    "#     return predicted_author\n"
   ]
  },
  {
   "cell_type": "code",
   "execution_count": null,
   "metadata": {},
   "outputs": [],
   "source": [
    "# Plot the t-SNE results\n",
    "# tsne_3d = TSNE(n_components=3, random_state=42)\n",
    "# tsne_results_3d = tsne_3d.fit_transform(tfidf_matrix.toarray())\n",
    "# X_train, X_test, y_train, y_test = train_test_split(X, y, test_size=0.2, random_state=42)"
   ]
  }
 ],
 "metadata": {
  "kernelspec": {
   "display_name": "venv",
   "language": "python",
   "name": "python3"
  },
  "language_info": {
   "codemirror_mode": {
    "name": "ipython",
    "version": 3
   },
   "file_extension": ".py",
   "mimetype": "text/x-python",
   "name": "python",
   "nbconvert_exporter": "python",
   "pygments_lexer": "ipython3",
   "version": "3.12.3"
  }
 },
 "nbformat": 4,
 "nbformat_minor": 2
}
